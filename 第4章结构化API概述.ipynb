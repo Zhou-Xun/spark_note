{
 "cells": [
  {
   "cell_type": "markdown",
   "id": "automotive-debut",
   "metadata": {},
   "source": [
    "<h4>本节深入探讨结构化API</h4>\n",
    "\n",
    "- 结构化API可以处理非结构化的日志文件、半结构化的CSV文件，以及高度结构化的Parquet文件\n",
    "- 结构化API通常指以下三种核心分布式集合类型的API\n",
    "    - Dataset类型\n",
    "    - DataFrame类型\n",
    "    - SQL表和视图\n",
    "    \n"
   ]
  },
  {
   "cell_type": "markdown",
   "id": "colored-hydrogen",
   "metadata": {},
   "source": [
    "<h4>DataFrame类型和DataSet类型</h4>\n",
    "\n",
    "- 具有行和列的类似于（分布式）数据表的集合类型\n",
    "- 可以通过它指定对特定位置数据的操作，该操作以惰性评估方式执行\n",
    "- 表和视图于DataFrame基本相同，所以通常在DataFrame上执行SQL操作，而不是用DataFrame专用执行代码\n",
    "\n",
    "<h4>Schema</h4>\n",
    "\n",
    "- 定义了DataFrame的列名和类型"
   ]
  },
  {
   "cell_type": "markdown",
   "id": "extra-accounting",
   "metadata": {},
   "source": [
    "<h4>结构化Spark类型概述</h4>\n",
    "\n",
    "- Spark有自己的编程语言，内部使用名为Catalyst的引擎\n",
    "- Spark在计划制定和执行作业的过程中使用Catalyst维护自己的类型信息，这样能够带来优化空间，提高性能\n",
    "- 我们可以使用其他语言，是由于Spark将其类型直接映射到不用语言的API\n",
    "- 因此我们大多数情况下都在操作Spark类型而非Python类型\n",
    "- 以下代码是在Spark中执行加法而非Python或Scala"
   ]
  },
  {
   "cell_type": "code",
   "execution_count": 1,
   "id": "known-pathology",
   "metadata": {},
   "outputs": [],
   "source": [
    "from pyspark.sql import SparkSession\n",
    "spark = SparkSession.builder.appName(\"Python\").getOrCreate()"
   ]
  },
  {
   "cell_type": "code",
   "execution_count": 16,
   "id": "unique-excitement",
   "metadata": {},
   "outputs": [
    {
     "name": "stdout",
     "output_type": "stream",
     "text": [
      "+-------------+\n",
      "|(number + 10)|\n",
      "+-------------+\n",
      "|           10|\n",
      "+-------------+\n",
      "\n"
     ]
    }
   ],
   "source": [
    "df = spark.range(500).toDF(\"number\")\n",
    "df.select(df[\"number\"]+10).limit(1).show()"
   ]
  },
  {
   "cell_type": "markdown",
   "id": "described-income",
   "metadata": {},
   "source": [
    "<b>需要特别指出的是DataFrame的每条记录，即每一行都是Row类型对象</b>"
   ]
  },
  {
   "cell_type": "code",
   "execution_count": 17,
   "id": "preceding-vegetation",
   "metadata": {},
   "outputs": [
    {
     "data": {
      "text/plain": [
       "[Row((number + 10)=10)]"
      ]
     },
     "execution_count": 17,
     "metadata": {},
     "output_type": "execute_result"
    }
   ],
   "source": [
    "df.select(df[\"number\"]+10).limit(1).collect()"
   ]
  },
  {
   "cell_type": "markdown",
   "id": "digital-banana",
   "metadata": {},
   "source": [
    "<h4>DataFrame与Dataset的比较</h4>\n",
    "\n",
    "- 结构化API的两类，非类型化的DataFrame和类型化的Dataset\n",
    "- DataFrame是有类型的，只是它的类型是完全交给Spark维护的\n",
    "- 这意味着只有在运行时，才会检查DataFrame的类型和schema中指定的类型是否一致\n",
    "- 与之相对的，DataSet在编译时就会检查类型是否符合规范\n",
    "- DataSet仅适用于基于Java虚拟机（JVM）的语言（比如Scala和Java）"
   ]
  },
  {
   "cell_type": "markdown",
   "id": "married-offering",
   "metadata": {},
   "source": [
    "<h4>Spark类型映射Python类型参考表</h4>\n",
    "\n",
    "|数据类型|Python的值类型|获取或创建数据类型的API\n",
    "|:----|:----|:----|\n",
    "|ByteType|int或long，数字在运行时转换为1字节带符号整数，确保数字在-128~127的范围内|ByteType()\n",
    "|ShortType|2字节，-32768~32767|ShortType()\n",
    "|IntegerType|定义宽松，数字太大最好使用LongType()|IntegerType()\n",
    "|LongTtype|长得很|LongType()\n",
    "|FloatType|数字将被转换为4字节的单精度浮点数|FloatType()\n",
    "|DoubleType\n",
    "|DecimalType\n",
    "|StringType\n",
    "|BinaryType\n",
    "|BooleanType\n",
    "|TimestampType\n",
    "|DataType\n",
    "|ArrayType\n",
    "|MapType|字典|MapType(keyType,valueType,[valueContainsNull])，valueContainsNull默认为True\n",
    "|StrucType|列表或元组|StructType(fields)。fields是包含多个StructField的list\n",
    "|StructField|该字段对应的Python数据类型|StructField(name,dataType,[nullable])"
   ]
  },
  {
   "cell_type": "markdown",
   "id": "directed-popularity",
   "metadata": {},
   "source": [
    "<h4>结构化API执行概述——用户代码到执行代码过程步骤</h4>\n",
    "\n",
    "1. 编写DataFrame/DataSet/SQL代码\n",
    "2. 如果代码能有效执行，Spark将其转换为一个逻辑执行计划（Logical Plan）\n",
    "3. Spark检查可行的优化策略并优化，优化交给Catalyst优化器，将此逻辑执行计划转化为一个物理执行计划（Physical Plan）\n",
    "4. Spark在集群上执行该物理执行计划（RDD操作）"
   ]
  },
  {
   "cell_type": "markdown",
   "id": "governmental-portfolio",
   "metadata": {},
   "source": [
    "<h4>逻辑计划</h4>\n",
    "\n",
    "- 仅代表一组抽象转换，不涉及执行器或驱动器，"
   ]
  }
 ],
 "metadata": {
  "kernelspec": {
   "display_name": "Python 3",
   "language": "python",
   "name": "python3"
  },
  "language_info": {
   "codemirror_mode": {
    "name": "ipython",
    "version": 3
   },
   "file_extension": ".py",
   "mimetype": "text/x-python",
   "name": "python",
   "nbconvert_exporter": "python",
   "pygments_lexer": "ipython3",
   "version": "3.8.8"
  }
 },
 "nbformat": 4,
 "nbformat_minor": 5
}
