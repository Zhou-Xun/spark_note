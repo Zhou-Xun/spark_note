{
 "cells": [
  {
   "cell_type": "markdown",
   "id": "certain-fishing",
   "metadata": {},
   "source": [
    "- 回归是分类的逻辑延申，回归不仅仅根据一组特征值预测单个离散值\n",
    "- 一些典型的应用场景\n",
    "    - 预测电影收视率\n",
    "    - 预测公司营收\n",
    "    - 预测作物产量"
   ]
  },
  {
   "cell_type": "markdown",
   "id": "suspended-closing",
   "metadata": {},
   "source": [
    "<h4>模型的可扩展性</h4>\n",
    "\n",
    "|模型|特征数量|训练样例\n",
    "|:----|:----|:-----\n",
    "|线性回归|100万~10000万|无限\n",
    "|广义线性回归|4096|无限\n",
    "|保序回归|N/A|百万级别\n",
    "|决策树|1000|无限\n",
    "|随机森林|10000|无限\n",
    "|梯度提升树|1000|无限\n",
    "|存活分析|100万~1000万|无限"
   ]
  },
  {
   "cell_type": "code",
   "execution_count": null,
   "id": "sustainable-dairy",
   "metadata": {},
   "outputs": [],
   "source": []
  }
 ],
 "metadata": {
  "kernelspec": {
   "display_name": "Python 3",
   "language": "python",
   "name": "python3"
  },
  "language_info": {
   "codemirror_mode": {
    "name": "ipython",
    "version": 3
   },
   "file_extension": ".py",
   "mimetype": "text/x-python",
   "name": "python",
   "nbconvert_exporter": "python",
   "pygments_lexer": "ipython3",
   "version": "3.8.8"
  }
 },
 "nbformat": 4,
 "nbformat_minor": 5
}
