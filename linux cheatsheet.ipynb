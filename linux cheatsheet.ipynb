{
 "cells": [
  {
   "cell_type": "markdown",
   "id": "ethical-gender",
   "metadata": {},
   "source": [
    "<h4>alias</h4>\n",
    "\n",
    "- vim ~/.bashrc\n",
    "- source ~/.bashrc"
   ]
  },
  {
   "cell_type": "code",
   "execution_count": 1,
   "id": "hawaiian-mouth",
   "metadata": {},
   "outputs": [
    {
     "data": {
      "text/html": [
       "<img src=\"img2/bashrc.png\", width=300>\n"
      ],
      "text/plain": [
       "<IPython.core.display.HTML object>"
      ]
     },
     "metadata": {},
     "output_type": "display_data"
    }
   ],
   "source": [
    "%%html\n",
    "<img src=\"img2/bashrc.png\", width=300>"
   ]
  },
  {
   "cell_type": "code",
   "execution_count": 3,
   "id": "earlier-dressing",
   "metadata": {},
   "outputs": [
    {
     "data": {
      "text/html": [
       "<img src=\"img2/globalalias.png\", width=600>\n"
      ],
      "text/plain": [
       "<IPython.core.display.HTML object>"
      ]
     },
     "metadata": {},
     "output_type": "display_data"
    }
   ],
   "source": [
    "%%html\n",
    "<img src=\"img2/globalalias.png\", width=600>"
   ]
  },
  {
   "cell_type": "code",
   "execution_count": null,
   "id": "plain-transcript",
   "metadata": {},
   "outputs": [],
   "source": []
  }
 ],
 "metadata": {
  "kernelspec": {
   "display_name": "Python 3",
   "language": "python",
   "name": "python3"
  },
  "language_info": {
   "codemirror_mode": {
    "name": "ipython",
    "version": 3
   },
   "file_extension": ".py",
   "mimetype": "text/x-python",
   "name": "python",
   "nbconvert_exporter": "python",
   "pygments_lexer": "ipython3",
   "version": "3.8.8"
  }
 },
 "nbformat": 4,
 "nbformat_minor": 5
}
