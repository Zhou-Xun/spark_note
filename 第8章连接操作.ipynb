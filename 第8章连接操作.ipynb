{
 "cells": [
  {
   "cell_type": "markdown",
   "id": "blocked-aluminum",
   "metadata": {},
   "source": [
    "<h4>连接类型</h4>\n",
    "\n",
    "- inner join, 内部连接(保留左,右数据集内某个键都存在的行)\n",
    "- outer join, 外部连接(保留左侧或右侧数据集中具有某个键的行)\n",
    "- left outer join, 左外部连接(保留左侧数据集中具有某个键的行)\n",
    "- right outer join, 右外部连接\n",
    "- left semi join, 左半连接(如果某键在右侧数据行中出现, 则保留且仅保留左侧数据行)\n",
    "- left anti join, 左反连接(如果某键在右侧数据行中没出现, 则保留且仅保留左侧数据行)\n",
    "- natural join, 自然连接(通过隐式匹配两个数据集之间相同名称的列来执行连接)\n",
    "- cross join, 笛卡尔连接"
   ]
  },
  {
   "cell_type": "code",
   "execution_count": 1,
   "id": "practical-skill",
   "metadata": {},
   "outputs": [],
   "source": [
    "from pyspark.sql import SparkSession\n",
    "spark = SparkSession.builder.appName(\"Python\").getOrCreate()"
   ]
  },
  {
   "cell_type": "markdown",
   "id": "worse-driving",
   "metadata": {},
   "source": [
    "<h4>首先创建一些简单数据集</h4>"
   ]
  },
  {
   "cell_type": "code",
   "execution_count": 7,
   "id": "timely-croatia",
   "metadata": {},
   "outputs": [],
   "source": [
    "person = spark.createDataFrame([\n",
    "    (0, \"Bill Chambers\", 0, [100]),\n",
    "    (1, \"Mateei\", 1, [500, 250, 100]),\n",
    "    (2, \"Michael Armbrust\", 1, [250, 100])\n",
    "]).toDF(\"id\", \"name\", \"graduate_program\", \"spark_status\")"
   ]
  },
  {
   "cell_type": "code",
   "execution_count": 19,
   "id": "organizational-pleasure",
   "metadata": {},
   "outputs": [
    {
     "data": {
      "text/html": [
       "<img src=\"img/createDataFrame.png\", width=400>\n"
      ],
      "text/plain": [
       "<IPython.core.display.HTML object>"
      ]
     },
     "metadata": {},
     "output_type": "display_data"
    }
   ],
   "source": [
    "%%html\n",
    "<img src=\"img/createDataFrame.png\", width=400>"
   ]
  },
  {
   "cell_type": "code",
   "execution_count": 6,
   "id": "swiss-arthritis",
   "metadata": {},
   "outputs": [],
   "source": [
    "graduateProgram = spark.createDataFrame([\n",
    "    (0, \"Masters\", \"School of Information\", \"UC Berkley\"),\n",
    "    (2, \"Masters\", \"EECS\", \"UC Berkley\"),\n",
    "    (1, \"Ph.D.\", \"EECS\", \"UC Berkley\")\n",
    "]).toDF(\"id\", \"degree\", \"department\", \"school\")"
   ]
  },
  {
   "cell_type": "code",
   "execution_count": 8,
   "id": "threatened-economy",
   "metadata": {},
   "outputs": [],
   "source": [
    "sparkStatus = spark.createDataFrame([\n",
    "    (500, \"Vice PPresident\"),\n",
    "    (250, \"PMC Member\"),\n",
    "    (100, \"Contributor\")\n",
    "]).toDF(\"id\", \"status\")"
   ]
  },
  {
   "cell_type": "code",
   "execution_count": 10,
   "id": "growing-implement",
   "metadata": {},
   "outputs": [],
   "source": [
    "person.createOrReplaceTempView(\"person\")\n",
    "graduateProgram.createOrReplaceTempView(\"graduateProgram\")\n",
    "sparkStatus.createOrReplaceTempView(\"sparkStatus\")"
   ]
  },
  {
   "cell_type": "markdown",
   "id": "written-weekend",
   "metadata": {},
   "source": [
    "<h4>内连接</h4>\n",
    "\n",
    "- 内连接是默认的连接操作, 只有指定键相等,才会将两行拼接起来返回\n",
    "- 对左表使用JOIN方法, 方法内三个参数: 右表, 连接键, 连接方式\n",
    "- A.join(B, joinExpression, joinType)"
   ]
  },
  {
   "cell_type": "code",
   "execution_count": 25,
   "id": "thorough-management",
   "metadata": {},
   "outputs": [
    {
     "data": {
      "text/html": [
       "<img src=\"img/innerjoin2.png\", width=600>\n"
      ],
      "text/plain": [
       "<IPython.core.display.HTML object>"
      ]
     },
     "metadata": {},
     "output_type": "display_data"
    }
   ],
   "source": [
    "%%html\n",
    "<img src=\"img/innerjoin2.png\", width=600>"
   ]
  },
  {
   "cell_type": "markdown",
   "id": "bronze-sudan",
   "metadata": {},
   "source": [
    "-- in SQL<br>\n",
    "SELECT * FROM person JOIN graduateProgram<br>\n",
    "ON person.graduate_program = graduateProgram.id"
   ]
  },
  {
   "cell_type": "markdown",
   "id": "pressed-arnold",
   "metadata": {},
   "source": [
    "<h4>外连接</h4>\n",
    "\n",
    "- joinType: outer\n",
    "- 返回所有表的所有行\n",
    "- 如果两行的指定键不相等, 则会将左侧或右侧DataFrame中没有匹配的行的各列用null替换"
   ]
  },
  {
   "cell_type": "markdown",
   "id": "framed-pursuit",
   "metadata": {},
   "source": [
    "<h4>左外连接</h4>\n",
    "\n",
    "- joinType: left_outer\n",
    "- 返回左表所有行, 并连接右边有匹配项的行\n",
    "- 对于右表无法匹配的行, Spark将插入null"
   ]
  },
  {
   "cell_type": "markdown",
   "id": "excellent-springfield",
   "metadata": {},
   "source": [
    "<h4>右外连接</h4>\n",
    "\n",
    "- joinType: right_outer"
   ]
  },
  {
   "cell_type": "markdown",
   "id": "alike-graphics",
   "metadata": {},
   "source": [
    "<h4>左半连接</h4>\n",
    "\n",
    "- joinType: left_semi\n",
    "- 不包含右侧DataFrame的任何值, 只是查看左侧DataFrame是否存在于右侧DataFrame中\n",
    "- 左半连接可以看作是DataFrame的过滤器"
   ]
  },
  {
   "cell_type": "code",
   "execution_count": 26,
   "id": "subtle-approval",
   "metadata": {},
   "outputs": [
    {
     "data": {
      "text/html": [
       "<img src=\"img/leftsemi.png\", width=600>\n"
      ],
      "text/plain": [
       "<IPython.core.display.HTML object>"
      ]
     },
     "metadata": {},
     "output_type": "display_data"
    }
   ],
   "source": [
    "%%html\n",
    "<img src=\"img/leftsemi.png\", width=600>"
   ]
  },
  {
   "cell_type": "markdown",
   "id": "democratic-tracy",
   "metadata": {},
   "source": [
    "<h4>左反连接</h4>\n",
    "\n",
    "- joinType: left_anti\n",
    "- 左反连接(left anti join)与左半连接(left semi join)相反\n",
    "- 左表会只保留右表没有的键"
   ]
  },
  {
   "cell_type": "markdown",
   "id": "contained-satisfaction",
   "metadata": {},
   "source": [
    "-- in SQL<br>\n",
    "SELECT * FROM graduateProgram LEFT ANTI JOIN person<br>\n",
    "ON graduateProgram.id = person.graduate_program"
   ]
  },
  {
   "cell_type": "markdown",
   "id": "weird-visibility",
   "metadata": {},
   "source": [
    "<h4>交叉连接(笛卡尔积连接)</h4>\n",
    "\n",
    "- 交叉连接: cross join, 笛卡尔积连接: cartesian product\n",
    "- 交叉连接会将左右两表每一行进行连接, 最产生大量行数\n",
    "- person.crossJoin(graduateProgram).show()\n",
    "- SELECT * FROM graduateProgram CROSS JOIN "
   ]
  },
  {
   "cell_type": "markdown",
   "id": "necessary-stuff",
   "metadata": {},
   "source": [
    "<h4>对复杂类型的连接操作</h4>\n",
    "\n",
    "- 任何返回boolean值得表达式都是有效的连接表达式\n",
    "- 将person的id命名为personId后, 判断sparkStatus的id是否在spark_status中"
   ]
  },
  {
   "cell_type": "code",
   "execution_count": 29,
   "id": "perceived-plastic",
   "metadata": {},
   "outputs": [
    {
     "data": {
      "text/html": [
       "<img src=\"img/complexjoin.png\", width=600>\n"
      ],
      "text/plain": [
       "<IPython.core.display.HTML object>"
      ]
     },
     "metadata": {},
     "output_type": "display_data"
    }
   ],
   "source": [
    "%%html\n",
    "<img src=\"img/complexjoin.png\", width=600>"
   ]
  },
  {
   "cell_type": "markdown",
   "id": "induced-filter",
   "metadata": {},
   "source": [
    "<h4>处理重复列名</h4>\n",
    "\n",
    "- 在连接两表后, 可能会出现两个拥有相同列名的列\n",
    "- 比如有两个id列, 这时候选择id就会报错"
   ]
  },
  {
   "cell_type": "code",
   "execution_count": 30,
   "id": "after-cricket",
   "metadata": {},
   "outputs": [
    {
     "data": {
      "text/html": [
       "<img src=\"img/dup.png\", width=600>\n"
      ],
      "text/plain": [
       "<IPython.core.display.HTML object>"
      ]
     },
     "metadata": {},
     "output_type": "display_data"
    }
   ],
   "source": [
    "%%html\n",
    "<img src=\"img/dup.png\", width=600>"
   ]
  },
  {
   "cell_type": "markdown",
   "id": "forward-chuck",
   "metadata": {},
   "source": [
    "- 方法一\n",
    "    - 采用不同的连接表达式, 也就是从布尔表达式更改为字符串\n",
    "- 方法二\n",
    "    - 连接后删除列\n",
    "- 方法三\n",
    "    - 重命名列"
   ]
  },
  {
   "cell_type": "code",
   "execution_count": 35,
   "id": "naval-punishment",
   "metadata": {},
   "outputs": [
    {
     "data": {
      "text/html": [
       "<img src=\"img/stringjoin.png\", width=300>\n"
      ],
      "text/plain": [
       "<IPython.core.display.HTML object>"
      ]
     },
     "metadata": {},
     "output_type": "display_data"
    }
   ],
   "source": [
    "%%html\n",
    "<img src=\"img/stringjoin.png\", width=300>"
   ]
  },
  {
   "cell_type": "code",
   "execution_count": 36,
   "id": "reduced-morrison",
   "metadata": {},
   "outputs": [
    {
     "data": {
      "text/html": [
       "<img src=\"img/dropjoin.png\", width=800>\n"
      ],
      "text/plain": [
       "<IPython.core.display.HTML object>"
      ]
     },
     "metadata": {},
     "output_type": "display_data"
    }
   ],
   "source": [
    "%%html\n",
    "<img src=\"img/dropjoin.png\", width=800>"
   ]
  },
  {
   "cell_type": "markdown",
   "id": "dedicated-nelson",
   "metadata": {},
   "source": [
    "<h4>Spark如何执行连接</h4>\n",
    "\n",
    "- 首先要了解两个起作用的核心模块\n",
    "- 点对点通信模式 (node-to-node communication strategy)\n",
    "- 逐点计算模式 (per node computation strategy)"
   ]
  },
  {
   "cell_type": "markdown",
   "id": "hollow-modeling",
   "metadata": {},
   "source": [
    "<h4>通信策略</h4>\n",
    "\n",
    "- Spark使用两种不同的方式处理集群通信问题\n",
    "- all-to-all通信的shuffle join\n",
    "- broadcast"
   ]
  },
  {
   "cell_type": "markdown",
   "id": "amino-credits",
   "metadata": {},
   "source": [
    "<h4>大表与大表连接</h4>\n",
    "\n",
    "- 当用一个大表连接一个大表时,最终就是一个shuffle join\n",
    "- 每个节点会与所有其他节点通信, 并根据哪个节点具有某个键来共享数据,\n",
    "- 在数据没有合理分区的情况下, 网络会因通信量会阻塞,连接会很耗时"
   ]
  },
  {
   "cell_type": "markdown",
   "id": "committed-relay",
   "metadata": {},
   "source": [
    "<h4>大表与小表连接</h4>\n",
    "\n",
    "- 当表的大小足够小以便能够放入单个节点内存中且还有空闲空间时, 可以优化连接\n",
    "- 这时候我们使用broadcast join, 把数据较小的表复制到集群所有节点\n",
    "- 只需要在开始时执行一次,能够避免all-to-all通信\n",
    "- 每个工作节点独立执行作业, 无需等待其他工作节点\n",
    "- 可以指定对小表使用broadcast"
   ]
  },
  {
   "cell_type": "code",
   "execution_count": 38,
   "id": "inappropriate-winter",
   "metadata": {},
   "outputs": [
    {
     "data": {
      "text/html": [
       "<img src=\"img/broadcast.png\", width=600>\n"
      ],
      "text/plain": [
       "<IPython.core.display.HTML object>"
      ]
     },
     "metadata": {},
     "output_type": "display_data"
    }
   ],
   "source": [
    "%%html\n",
    "<img src=\"img/broadcast.png\", width=600>"
   ]
  },
  {
   "cell_type": "code",
   "execution_count": null,
   "id": "offshore-physics",
   "metadata": {},
   "outputs": [],
   "source": []
  }
 ],
 "metadata": {
  "kernelspec": {
   "display_name": "Python 3",
   "language": "python",
   "name": "python3"
  },
  "language_info": {
   "codemirror_mode": {
    "name": "ipython",
    "version": 3
   },
   "file_extension": ".py",
   "mimetype": "text/x-python",
   "name": "python",
   "nbconvert_exporter": "python",
   "pygments_lexer": "ipython3",
   "version": "3.8.8"
  }
 },
 "nbformat": 4,
 "nbformat_minor": 5
}
