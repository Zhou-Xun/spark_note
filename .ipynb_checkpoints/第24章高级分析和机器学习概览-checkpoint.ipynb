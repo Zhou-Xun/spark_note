{
 "cells": [
  {
   "cell_type": "markdown",
   "id": "interstate-macedonia",
   "metadata": {},
   "source": [
    "- 除了大规模SQL分析和流处理，Spark还提供了对数据统计、机器学习和图分析的支持\n",
    "- 本章涵盖的高级数据分析工具包括\n",
    "    - 数据预处理（数据清洗和特征工程）\n",
    "    - 监督学习\n",
    "    - 推荐系统\n",
    "    - 无监督学习\n",
    "    - 图分析\n",
    "    - 深度学习"
   ]
  },
  {
   "cell_type": "markdown",
   "id": "protecting-bridal",
   "metadata": {},
   "source": [
    "<h4>常见任务</h4>\n",
    "\n",
    "- 监督学习，包括分类和回归，根据数据项的各种特征预测每个数据项的标签\n",
    "- 推荐系统，根据行为向用户推荐产品\n",
    "- 无监督学习，聚类，异常检测，主题建模\n",
    "- 图分析任务，发现社交网络中的模式"
   ]
  },
  {
   "cell_type": "markdown",
   "id": "operating-cleaning",
   "metadata": {},
   "source": [
    " <h4>监督学习</h4>\n",
    " \n",
    " - 训练过程一般是通过梯度下降来实现的\n",
    " - 训练算法从一个初始基本模型开始，在每次迭代期间会调整模型的各参数来逐渐提升模型准确度"
   ]
  },
  {
   "cell_type": "markdown",
   "id": "directed-lebanon",
   "metadata": {},
   "source": [
    "<h4>推荐系统</h4>\n",
    "\n",
    "- 研究用户对多种商品的偏好，基于用户之间的相似性来推荐给用户可能喜欢的商品\n",
    "- Spark非常适合处理大数据推荐"
   ]
  },
  {
   "cell_type": "markdown",
   "id": "funded-cincinnati",
   "metadata": {},
   "source": [
    "<h4>无监督学习</h4>\n",
    "\n",
    "- 异常检测，用户分类\n",
    "- 主题建模，给定一组文件，分析其中所含的词组来看看是否有潜在关系"
   ]
  },
  {
   "cell_type": "markdown",
   "id": "stopped-diana",
   "metadata": {},
   "source": [
    "<h4>图分析</h4>\n",
    "\n",
    "- 研究顶点和边的结构，顶点代表人与产品，边可能代表了购买行为"
   ]
  },
  {
   "cell_type": "markdown",
   "id": "precious-liabilities",
   "metadata": {},
   "source": [
    "<h4>高级分析过程</h4>\n",
    "\n",
    "1. 搜集与任务相关的数据\n",
    "2. 清理和检查数据以更好地理解\n",
    "3. 执行特征工程以使数据以适合的形式为算法使用（将数据转换为数值向量）\n",
    "4. 使用该数据的一部分作为训练集训练一个或多个模型\n",
    "5. 利用从未被用作训练的数据子集来实际客观地评价结果\n",
    "6. 利用模型预测、检测异常、解决更通用的业务难题"
   ]
  },
  {
   "cell_type": "markdown",
   "id": "vanilla-suite",
   "metadata": {},
   "source": [
    "<h4>数据采集</h4>\n",
    "\n",
    "- Spark支持多种数据源，并能够积极处理各种大小的数据集"
   ]
  },
  {
   "cell_type": "markdown",
   "id": "expired-scholar",
   "metadata": {},
   "source": [
    "<h4>数据清理</h4>\n",
    "\n",
    "- EDA，即探索性数据分析\n",
    "- 采用交互式查询和可视化方法，更好地了解数据分布、相关性等细节"
   ]
  },
  {
   "cell_type": "markdown",
   "id": "recent-appreciation",
   "metadata": {},
   "source": [
    "<h4>特征工程</h4>\n",
    "\n",
    "- 转换数据以便于机器学习，正侧化数据、增加变量、操纵类别变量等"
   ]
  },
  {
   "cell_type": "markdown",
   "id": "frequent-mystery",
   "metadata": {},
   "source": [
    "<h3>MLlib</h3>\n",
    "\n",
    "- MLlib基于Spark，并属于Spark项目的一个软件包\n",
    "- 它提供各种API接口用于收集和清理数据、特征工程和特征选择、训练和微调大型有监督和无监督机器学习模型\n",
    "- MLlib实际上由两个利用不同核心数据结构的包组成\n",
    "    - org.apache.spark.ml，包括使用DataFrame的接口，提供了用于构建机器学习流程的高层次接口，有助于标准化\n",
    "    - org.apache.spark.mllib，包括Spark低级别的RDD API接口"
   ]
  },
  {
   "cell_type": "markdown",
   "id": "complimentary-immunology",
   "metadata": {},
   "source": [
    "<h4>为什么使用MLlib</h4>"
   ]
  },
  {
   "cell_type": "code",
   "execution_count": null,
   "id": "prompt-issue",
   "metadata": {},
   "outputs": [],
   "source": []
  }
 ],
 "metadata": {
  "kernelspec": {
   "display_name": "Python 3",
   "language": "python",
   "name": "python3"
  },
  "language_info": {
   "codemirror_mode": {
    "name": "ipython",
    "version": 3
   },
   "file_extension": ".py",
   "mimetype": "text/x-python",
   "name": "python",
   "nbconvert_exporter": "python",
   "pygments_lexer": "ipython3",
   "version": "3.8.8"
  }
 },
 "nbformat": 4,
 "nbformat_minor": 5
}
